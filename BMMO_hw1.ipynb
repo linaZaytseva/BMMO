{
 "cells": [
  {
   "cell_type": "code",
   "execution_count": 1,
   "metadata": {},
   "outputs": [],
   "source": [
    "def Prob(д,с,г,в,п):\n",
    "    if в == 1:\n",
    "        p_в = 0.2\n",
    "    else:\n",
    "        p_в = 0.8\n",
    "        \n",
    "    if д == 1:\n",
    "        p_д = 0.4\n",
    "        if с == 1:\n",
    "            p_п__с = 0.95\n",
    "            if в == 1:\n",
    "                p_с__в_д = 0.999\n",
    "            else:\n",
    "                p_с__в_д = 0.9\n",
    "        else:\n",
    "            p_п__с = 0.5\n",
    "            if в == 1:\n",
    "                p_с__в_д = 0.001\n",
    "            else:\n",
    "                p_с__в_д = 0.1\n",
    "    else:\n",
    "        p_д = 0.6\n",
    "        if с == 1:\n",
    "            p_п__с = 0.95\n",
    "            if в == 1:\n",
    "                p_с__в_д = 0.9\n",
    "            else:\n",
    "                p_с__в_д = 0.01\n",
    "        else:\n",
    "            p_п__с = 0.5\n",
    "            if в == 1:\n",
    "                p_с__в_д = 0.1\n",
    "            else:\n",
    "                p_с__в_д = 0.99\n",
    "                \n",
    "    if г == 1:\n",
    "        if в == 1:\n",
    "            p_г__в = 0.9\n",
    "        else:\n",
    "            p_г__в = 0.2\n",
    "    else:\n",
    "        if в == 1:\n",
    "            p_г__в = 0.1\n",
    "        else:\n",
    "            p_г__в = 0.8\n",
    "            \n",
    "    return(p_п__с*p_с__в_д*p_г__в*p_в*p_д)"
   ]
  },
  {
   "cell_type": "markdown",
   "metadata": {},
   "source": [
    "#### Пункт 2"
   ]
  },
  {
   "cell_type": "markdown",
   "metadata": {},
   "source": [
    "Числитель"
   ]
  },
  {
   "cell_type": "code",
   "execution_count": 2,
   "metadata": {},
   "outputs": [
    {
     "data": {
      "text/plain": [
       "0.184564"
      ]
     },
     "execution_count": 2,
     "metadata": {},
     "output_type": "execute_result"
    }
   ],
   "source": [
    "Prob(0,0,0,1,1)+Prob(0,0,1,1,1)+Prob(0,1,0,1,1)+Prob(0,1,1,1,1)+Prob(1,0,0,1,1)+Prob(1,0,1,1,1)+Prob(1,1,0,1,1)+Prob(1,1,1,1,1)"
   ]
  },
  {
   "cell_type": "markdown",
   "metadata": {},
   "source": [
    "Знаменатель"
   ]
  },
  {
   "cell_type": "code",
   "execution_count": 3,
   "metadata": {},
   "outputs": [
    {
     "data": {
      "text/plain": [
       "0.716324"
      ]
     },
     "execution_count": 3,
     "metadata": {},
     "output_type": "execute_result"
    }
   ],
   "source": [
    "0.184564 + Prob(0,0,0,0,1)+Prob(0,0,1,0,1)+Prob(0,1,0,0,1)+Prob(0,1,1,0,1)+Prob(1,0,0,0,1)+Prob(1,0,1,0,1)+Prob(1,1,0,0,1)+Prob(1,1,1,0,1)"
   ]
  },
  {
   "cell_type": "markdown",
   "metadata": {},
   "source": [
    "Итог"
   ]
  },
  {
   "cell_type": "code",
   "execution_count": 4,
   "metadata": {},
   "outputs": [
    {
     "data": {
      "text/plain": [
       "0.25765435752536564"
      ]
     },
     "execution_count": 4,
     "metadata": {},
     "output_type": "execute_result"
    }
   ],
   "source": [
    "0.184564/0.716324"
   ]
  },
  {
   "cell_type": "markdown",
   "metadata": {},
   "source": [
    "#### Пункт 3"
   ]
  },
  {
   "cell_type": "markdown",
   "metadata": {},
   "source": [
    "Числитель"
   ]
  },
  {
   "cell_type": "code",
   "execution_count": 5,
   "metadata": {},
   "outputs": [
    {
     "data": {
      "text/plain": [
       "0.16610760000000002"
      ]
     },
     "execution_count": 5,
     "metadata": {},
     "output_type": "execute_result"
    }
   ],
   "source": [
    "Prob(0,0,1,1,1) + Prob(0,1,1,1,1) + Prob(1,0,1,1,1) + Prob(1,1,1,1,1) "
   ]
  },
  {
   "cell_type": "markdown",
   "metadata": {},
   "source": [
    "Знаменатель"
   ]
  },
  {
   "cell_type": "code",
   "execution_count": 6,
   "metadata": {},
   "outputs": [
    {
     "data": {
      "text/plain": [
       "0.2724596"
      ]
     },
     "execution_count": 6,
     "metadata": {},
     "output_type": "execute_result"
    }
   ],
   "source": [
    "0.16610760000000002 + Prob(0,0,1,0,1) + Prob(0,1,1,0,1) + Prob(1,0,1,0,1) + Prob(1,1,1,0,1) "
   ]
  },
  {
   "cell_type": "markdown",
   "metadata": {},
   "source": [
    "Итог"
   ]
  },
  {
   "cell_type": "code",
   "execution_count": 7,
   "metadata": {},
   "outputs": [
    {
     "data": {
      "text/plain": [
       "0.6096595605366815"
      ]
     },
     "execution_count": 7,
     "metadata": {},
     "output_type": "execute_result"
    }
   ],
   "source": [
    "0.16610760000000002/0.2724596"
   ]
  }
 ],
 "metadata": {
  "kernelspec": {
   "display_name": "Python 3",
   "language": "python",
   "name": "python3"
  },
  "language_info": {
   "codemirror_mode": {
    "name": "ipython",
    "version": 3
   },
   "file_extension": ".py",
   "mimetype": "text/x-python",
   "name": "python",
   "nbconvert_exporter": "python",
   "pygments_lexer": "ipython3",
   "version": "3.7.3"
  }
 },
 "nbformat": 4,
 "nbformat_minor": 4
}
